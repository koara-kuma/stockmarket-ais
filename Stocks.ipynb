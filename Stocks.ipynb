{
  "nbformat": 4,
  "nbformat_minor": 0,
  "metadata": {
    "colab": {
      "provenance": []
    },
    "kernelspec": {
      "name": "python3",
      "display_name": "Python 3"
    },
    "language_info": {
      "name": "python"
    }
  },
  "cells": [
    {
      "cell_type": "markdown",
      "source": [
        "# **Maching Learning and Stocks**\n",
        "Machine learning can be used to predict whether stock prices will go up or down by leveraging historical data and identifying patterns or relationships between various factors and stock price movements. Here's a simplified explanation of the process:\n",
        "\n",
        "**Data Collection:** Historical stock market data is collected, including features such as previous price, trading volume, technical indicators, and news sentiment.\n",
        "\n",
        "**Data Preprocessing:** The collected data is cleaned, transformed, and prepared for training a machine learning model. This may involve handling missing values, scaling features, and splitting the data into training and testing sets.\n",
        "\n",
        "**Feature Engineering:** Additional features may be derived from the existing data to capture relevant information. For example, moving averages, relative strength index (RSI), or other technical indicators can be calculated to provide more insights into price trends.\n",
        "\n",
        "**Model Selection:** Different machine learning algorithms suitable for predicting stock price movements, such as decision trees, random forests, support vector machines (SVM), or neural networks, can be considered. The choice depends on the characteristics of the data and the problem at hand.\n",
        "\n",
        "**Model Training:** The selected machine learning model is trained on the historical data, where it learns the patterns and relationships between the features and the corresponding stock price movements. The model adjusts its internal parameters to minimize the prediction errors.\n",
        "\n",
        "**Model Evaluation:** The trained model is evaluated using the testing data to assess its predictive performance. Common evaluation metrics include accuracy, precision, recall, F1-score, or area under the receiver operating characteristic (ROC) curve.\n",
        "\n",
        "**Predictions:** Once the model is trained and evaluated, it can be used to make predictions on new, unseen data. The model takes in the relevant features of the current market conditions and generates predictions on whether the stock price will go up or down.\n",
        "\n",
        "It's important to note that predicting stock prices accurately is a challenging task due to various factors influencing the stock market, including economic conditions, market sentiment, and unforeseen events. Machine learning models can provide insights and assist in decision-making, but they are not infallible and should be used with caution in real-world trading scenarios."
      ],
      "metadata": {
        "id": "V6dL2NxzJGsu"
      }
    },
    {
      "cell_type": "markdown",
      "source": [
        "# **Importing Libraries**\n",
        "Below we have imported libraries such as pandas to keep our data in dataframes, numpy to be able to convert our data into arrays, and the machine learning models that were necessary for this project."
      ],
      "metadata": {
        "id": "gdzH-nndJjqW"
      }
    },
    {
      "cell_type": "code",
      "execution_count": null,
      "metadata": {
        "id": "INGSEq92m4gg"
      },
      "outputs": [],
      "source": [
        "import pandas as pd  # Data manipulation and analysis library: https://pandas.pydata.org/\n",
        "import numpy as np  # Fundamental library for numerical computing: https://numpy.org/\n",
        "from sklearn.model_selection import train_test_split, cross_val_score, StratifiedKFold  # Model selection and evaluation: https://scikit-learn.org/stable/model_selection.html\n",
        "from sklearn.linear_model import LinearRegression  # Linear regression modeling: https://scikit-learn.org/stable/modules/generated/sklearn.linear_model.LinearRegression.html\n",
        "from sklearn.tree import DecisionTreeRegressor  # Decision tree-based regression: https://scikit-learn.org/stable/modules/generated/sklearn.tree.DecisionTreeRegressor.html\n",
        "from sklearn.ensemble import RandomForestRegressor, VotingRegressor  # Random forest regression and voting ensemble: https://scikit-learn.org/stable/modules/generated/sklearn.ensemble.RandomForestRegressor.html, https://scikit-learn.org/stable/modules/generated/sklearn.ensemble.VotingRegressor.html\n",
        "from sklearn.svm import SVR  # Support Vector Regression: https://scikit-learn.org/stable/modules/generated/sklearn.svm.SVR.html\n",
        "import matplotlib.pyplot as plt  # Plotting library: https://matplotlib.org/stable/api/pyplot_summary.html\n",
        "import seaborn as sns  # Statistical data visualization: https://seaborn.pydata.org/\n",
        "from sklearn.metrics import confusion_matrix  # Confusion matrix: https://scikit-learn.org/stable/modules/generated/sklearn.metrics.confusion_matrix.html\n",
        "import datetime  # Module for working with dates and times: https://docs.python.org/3/library/datetime.html\n",
        "import yfinance as yf  # Yahoo Finance library for fetching financial data: https://pypi.org/project/yfinance/\n"
      ]
    },
    {
      "cell_type": "markdown",
      "source": [
        "# **Gathering the Data**\n",
        "In this code we gathered the stock data from the past 900 days on Yahoo Finance. Then convert it to a dataframe which the machine learning models can scan through."
      ],
      "metadata": {
        "id": "GFzbr8-vKLeY"
      }
    },
    {
      "cell_type": "code",
      "source": [
        "# Data scraping\n",
        "# Define the ticker symbol for the stock (e.g., \"AAPL\" for Apple)\n",
        "ticker_symbol = \"AAPL\"\n",
        "\n",
        "# Set the end date as today\n",
        "end_date = datetime.datetime.today().strftime('%Y-%m-%d')\n",
        "\n",
        "# Set the start date as 900 days (approximately 3 years) before today\n",
        "start_date = (datetime.datetime.today() - datetime.timedelta(days=900)).strftime('%Y-%m-%d')\n",
        "\n",
        "# Download the stock data for the specified time frame using Yahoo Finance API\n",
        "data = yf.download(ticker_symbol, start=start_date, end=end_date)\n",
        "\n",
        "# Save the downloaded data to a CSV file for further use\n",
        "data.to_csv('AAPL.csv')\n",
        "\n",
        "# Isolating the close prices from the downloaded data\n",
        "close_prices = data['Close']\n",
        "\n",
        "# Set up the figure and axis objects for plotting\n",
        "fig, ax = plt.subplots()\n",
        "\n",
        "# Set the background color of the figure and axis to black\n",
        "fig.patch.set_facecolor('black')\n",
        "ax.set_facecolor('black')\n",
        "\n",
        "# Customize the line color and style\n",
        "line_color = 'mediumvioletred'  # You can change this to any desired color\n",
        "line_style = '-'  # You can choose different line styles like '--' for dashed line\n",
        "\n",
        "# Plot the line chart with the close prices\n",
        "ax.plot(close_prices, color=line_color, linestyle=line_style)\n",
        "\n",
        "# Set the title and labels for the plot\n",
        "ax.set_title('Stock Closing Prices', color='white')\n",
        "ax.set_xlabel('Time', color='white')\n",
        "ax.set_ylabel('Price', color='white')\n",
        "\n",
        "# Set the tick colors to white\n",
        "ax.tick_params(colors='white')\n",
        "\n",
        "# Set the size of the figure\n",
        "fig.set_size_inches(12, 6)\n",
        "\n",
        "# Show the plot\n",
        "plt.show()\n"
      ],
      "metadata": {
        "colab": {
          "base_uri": "https://localhost:8080/",
          "height": 581
        },
        "id": "8NRqk_FfnJ3N",
        "outputId": "89c1a39f-c9b8-4a61-b661-b3694b144a40"
      },
      "execution_count": null,
      "outputs": [
        {
          "output_type": "stream",
          "name": "stdout",
          "text": [
            "\r[*********************100%***********************]  1 of 1 completed\n"
          ]
        },
        {
          "output_type": "display_data",
          "data": {
            "text/plain": [
              "<Figure size 1200x600 with 1 Axes>"
            ],
            "image/png": "[encoded data removed]"
          },
          "metadata": {}
        }
      ]
    },
    {
      "cell_type": "markdown",
      "source": [
        "By printing the graph we can visually show the data for which our machine learning model is being trained on."
      ],
      "metadata": {
        "id": "vEgh_5lsMQ9b"
      }
    },
    {
      "cell_type": "markdown",
      "source": [
        "# **Feature Engineering**\n",
        "What are features in machine learning? Features are basically sets of data that the machine learning model can use to accurately predict whatever it needs to predict. In this case, we are adding stock market features such as the previous day's closing price, SMA, EMA, RSI, MACD, Bollinger Bands, and Stock Movement. Adding these features gives the model more information to work with."
      ],
      "metadata": {
        "id": "HdvmDeekMaxa"
      }
    },
    {
      "cell_type": "code",
      "source": [
        "# Add features: previous day's closing price, SMA, EMA, RSI, MACD, Bollinger Bands\n",
        "\n",
        "# Add a new column 'prevClose' with the previous day's closing price\n",
        "data['prevClose'] = data['Close'].shift(1)\n",
        "\n",
        "# Calculate Simple Moving Average (SMA) for different window sizes\n",
        "window_sizes = [7, 30]\n",
        "for window_size in window_sizes:\n",
        "    column_name = f'SMA_{window_size}'\n",
        "    data[column_name] = data['prevClose'].rolling(window=window_size).mean()\n",
        "\n",
        "# Calculate Exponential Moving Average (EMA) for different window sizes\n",
        "for window_size in window_sizes:\n",
        "    column_name = f'EMA_{window_size}'\n",
        "    data[column_name] = data['prevClose'].ewm(span=window_size, adjust=False).mean()\n",
        "\n",
        "# Calculate Relative Strength Index (RSI)\n",
        "delta = data['prevClose'].diff()\n",
        "gain = delta.mask(delta < 0, 0)\n",
        "loss = -delta.mask(delta > 0, 0)\n",
        "average_gain = gain.rolling(window=14).mean()\n",
        "average_loss = loss.rolling(window=14).mean()\n",
        "rs = average_gain / average_loss\n",
        "rsi = 100 - (100 / (1 + rs))\n",
        "data['RSI'] = rsi\n",
        "\n",
        "# Calculate Moving Average Convergence Divergence (MACD)\n",
        "ema_12 = data['prevClose'].ewm(span=12, adjust=False).mean()\n",
        "ema_26 = data['prevClose'].ewm(span=26, adjust=False).mean()\n",
        "macd = ema_12 - ema_26\n",
        "signal_line = macd.ewm(span=9, adjust=False).mean()\n",
        "data['MACD'] = macd\n",
        "data['Signal Line'] = signal_line\n",
        "\n",
        "# Calculate Bollinger Bands\n",
        "rolling_mean = data['prevClose'].rolling(window=20).mean()\n",
        "rolling_std = data['prevClose'].rolling(window=20).std()\n",
        "upper_band = rolling_mean + (2 * rolling_std)\n",
        "lower_band = rolling_mean - (2 * rolling_std)\n",
        "data['Upper Band'] = upper_band\n",
        "data['Lower Band'] = lower_band\n",
        "\n",
        "# Create a new column 'Price_Difference' with the price differences\n",
        "data['Price_Difference'] = data['Close'].diff()\n",
        "\n",
        "# Create a new column 'Stock_Movement' indicating the direction of stock movement (0 for up, 1 for down)\n",
        "data['Stock_Movement'] = np.where(data['Price_Difference'] > 0, 1, 0)\n",
        "\n",
        "# Display the first five rows of the data\n",
        "data.head()\n"
      ],
      "metadata": {
        "colab": {
          "base_uri": "https://localhost:8080/",
          "height": 238
        },
        "id": "N3MANJYmnFGN",
        "outputId": "a0726ab7-1662-4fb2-917d-c2d35deed811"
      },
      "execution_count": null,
      "outputs": [
        {
          "output_type": "execute_result",
          "data": {
            "text/plain": [
              "                  Open        High         Low       Close   Adj Close  \\\n",
              "Date                                                                     \n",
              "2021-01-21  133.800003  139.669998  133.589996  136.869995  134.853745   \n",
              "2021-01-22  136.279999  139.850006  135.020004  139.070007  137.021362   \n",
              "2021-01-25  143.070007  145.089996  136.539993  142.919998  140.814621   \n",
              "2021-01-26  143.600006  144.300003  141.369995  143.160004  141.051071   \n",
              "2021-01-27  143.429993  144.300003  140.410004  142.059998  139.967285   \n",
              "\n",
              "               Volume   prevClose  SMA_7  SMA_30       EMA_7      EMA_30  RSI  \\\n",
              "Date                                                                            \n",
              "2021-01-21  120150900         NaN    NaN     NaN         NaN         NaN  NaN   \n",
              "2021-01-22  114459400  136.869995    NaN     NaN  136.869995  136.869995  NaN   \n",
              "2021-01-25  157611700  139.070007    NaN     NaN  137.419998  137.011931  NaN   \n",
              "2021-01-26   98390600  142.919998    NaN     NaN  138.794998  137.393097  NaN   \n",
              "2021-01-27  140843800  143.160004    NaN     NaN  139.886250  137.765155  NaN   \n",
              "\n",
              "                MACD  Signal Line  Upper Band  Lower Band  Price_Difference  \\\n",
              "Date                                                                          \n",
              "2021-01-21       NaN          NaN         NaN         NaN               NaN   \n",
              "2021-01-22  0.000000     0.000000         NaN         NaN          2.200012   \n",
              "2021-01-25  0.175500     0.035100         NaN         NaN          3.849991   \n",
              "2021-01-26  0.618121     0.151704         NaN         NaN          0.240005   \n",
              "2021-01-27  0.977006     0.316764         NaN         NaN         -1.100006   \n",
              "\n",
              "            Stock_Movement  \n",
              "Date                        \n",
              "2021-01-21               0  \n",
              "2021-01-22               1  \n",
              "2021-01-25               1  \n",
              "2021-01-26               1  \n",
              "2021-01-27               0  "
            ],
            "text/html": [
              "\n",
              "  <div id=\"df-5947f64f-f162-4755-9e5f-f2a9d6e62306\">\n",
              "    <div class=\"colab-df-container\">\n",
              "      <div>\n",
              "<style scoped>\n",
              "    .dataframe tbody tr th:only-of-type {\n",
              "        vertical-align: middle;\n",
              "    }\n",
              "\n",
              "    .dataframe tbody tr th {\n",
              "        vertical-align: top;\n",
              "    }\n",
              "\n",
              "    .dataframe thead th {\n",
              "        text-align: right;\n",
              "    }\n",
              "</style>\n",
              "<table border=\"1\" class=\"dataframe\">\n",
              "  <thead>\n",
              "    <tr style=\"text-align: right;\">\n",
              "      <th></th>\n",
              "      <th>Open</th>\n",
              "      <th>High</th>\n",
              "      <th>Low</th>\n",
              "      <th>Close</th>\n",
              "      <th>Adj Close</th>\n",
              "      <th>Volume</th>\n",
              "      <th>prevClose</th>\n",
              "      <th>SMA_7</th>\n",
              "      <th>SMA_30</th>\n",
              "      <th>EMA_7</th>\n",
              "      <th>EMA_30</th>\n",
              "      <th>RSI</th>\n",
              "      <th>MACD</th>\n",
              "      <th>Signal Line</th>\n",
              "      <th>Upper Band</th>\n",
              "      <th>Lower Band</th>\n",
              "      <th>Price_Difference</th>\n",
              "      <th>Stock_Movement</th>\n",
              "    </tr>\n",
              "    <tr>\n",
              "      <th>Date</th>\n",
              "      <th></th>\n",
              "      <th></th>\n",
              "      <th></th>\n",
              "      <th></th>\n",
              "      <th></th>\n",
              "      <th></th>\n",
              "      <th></th>\n",
              "      <th></th>\n",
              "      <th></th>\n",
              "      <th></th>\n",
              "      <th></th>\n",
              "      <th></th>\n",
              "      <th></th>\n",
              "      <th></th>\n",
              "      <th></th>\n",
              "      <th></th>\n",
              "      <th></th>\n",
              "      <th></th>\n",
              "    </tr>\n",
              "  </thead>\n",
              "  <tbody>\n",
              "    <tr>\n",
              "      <th>2021-01-21</th>\n",
              "      <td>133.800003</td>\n",
              "      <td>139.669998</td>\n",
              "      <td>133.589996</td>\n",
              "      <td>136.869995</td>\n",
              "      <td>134.853745</td>\n",
              "      <td>120150900</td>\n",
              "      <td>NaN</td>\n",
              "      <td>NaN</td>\n",
              "      <td>NaN</td>\n",
              "      <td>NaN</td>\n",
              "      <td>NaN</td>\n",
              "      <td>NaN</td>\n",
              "      <td>NaN</td>\n",
              "      <td>NaN</td>\n",
              "      <td>NaN</td>\n",
              "      <td>NaN</td>\n",
              "      <td>NaN</td>\n",
              "      <td>0</td>\n",
              "    </tr>\n",
              "    <tr>\n",
              "      <th>2021-01-22</th>\n",
              "      <td>136.279999</td>\n",
              "      <td>139.850006</td>\n",
              "      <td>135.020004</td>\n",
              "      <td>139.070007</td>\n",
              "      <td>137.021362</td>\n",
              "      <td>114459400</td>\n",
              "      <td>136.869995</td>\n",
              "      <td>NaN</td>\n",
              "      <td>NaN</td>\n",
              "      <td>136.869995</td>\n",
              "      <td>136.869995</td>\n",
              "      <td>NaN</td>\n",
              "      <td>0.000000</td>\n",
              "      <td>0.000000</td>\n",
              "      <td>NaN</td>\n",
              "      <td>NaN</td>\n",
              "      <td>2.200012</td>\n",
              "      <td>1</td>\n",
              "    </tr>\n",
              "    <tr>\n",
              "      <th>2021-01-25</th>\n",
              "      <td>143.070007</td>\n",
              "      <td>145.089996</td>\n",
              "      <td>136.539993</td>\n",
              "      <td>142.919998</td>\n",
              "      <td>140.814621</td>\n",
              "      <td>157611700</td>\n",
              "      <td>139.070007</td>\n",
              "      <td>NaN</td>\n",
              "      <td>NaN</td>\n",
              "      <td>137.419998</td>\n",
              "      <td>137.011931</td>\n",
              "      <td>NaN</td>\n",
              "      <td>0.175500</td>\n",
              "      <td>0.035100</td>\n",
              "      <td>NaN</td>\n",
              "      <td>NaN</td>\n",
              "      <td>3.849991</td>\n",
              "      <td>1</td>\n",
              "    </tr>\n",
              "    <tr>\n",
              "      <th>2021-01-26</th>\n",
              "      <td>143.600006</td>\n",
              "      <td>144.300003</td>\n",
              "      <td>141.369995</td>\n",
              "      <td>143.160004</td>\n",
              "      <td>141.051071</td>\n",
              "      <td>98390600</td>\n",
              "      <td>142.919998</td>\n",
              "      <td>NaN</td>\n",
              "      <td>NaN</td>\n",
              "      <td>138.794998</td>\n",
              "      <td>137.393097</td>\n",
              "      <td>NaN</td>\n",
              "      <td>0.618121</td>\n",
              "      <td>0.151704</td>\n",
              "      <td>NaN</td>\n",
              "      <td>NaN</td>\n",
              "      <td>0.240005</td>\n",
              "      <td>1</td>\n",
              "    </tr>\n",
              "    <tr>\n",
              "      <th>2021-01-27</th>\n",
              "      <td>143.429993</td>\n",
              "      <td>144.300003</td>\n",
              "      <td>140.410004</td>\n",
              "      <td>142.059998</td>\n",
              "      <td>139.967285</td>\n",
              "      <td>140843800</td>\n",
              "      <td>143.160004</td>\n",
              "      <td>NaN</td>\n",
              "      <td>NaN</td>\n",
              "      <td>139.886250</td>\n",
              "      <td>137.765155</td>\n",
              "      <td>NaN</td>\n",
              "      <td>0.977006</td>\n",
              "      <td>0.316764</td>\n",
              "      <td>NaN</td>\n",
              "      <td>NaN</td>\n",
              "      <td>-1.100006</td>\n",
              "      <td>0</td>\n",
              "    </tr>\n",
              "  </tbody>\n",
              "</table>\n",
              "</div>\n",
              "      <button class=\"colab-df-convert\" onclick=\"convertToInteractive('df-5947f64f-f162-4755-9e5f-f2a9d6e62306')\"\n",
              "              title=\"Convert this dataframe to an interactive table.\"\n",
              "              style=\"display:none;\">\n",
              "        \n",
              "  <svg xmlns=\"http://www.w3.org/2000/svg\" height=\"24px\"viewBox=\"0 0 24 24\"\n",
              "       width=\"24px\">\n",
              "    <path d=\"M0 0h24v24H0V0z\" fill=\"none\"/>\n",
              "    <path d=\"M18.56 5.44l.94 2.06.94-2.06 2.06-.94-2.06-.94-.94-2.06-.94 2.06-2.06.94zm-11 1L8.5 8.5l.94-2.06 2.06-.94-2.06-.94L8.5 2.5l-.94 2.06-2.06.94zm10 10l.94 2.06.94-2.06 2.06-.94-2.06-.94-.94-2.06-.94 2.06-2.06.94z\"/><path d=\"M17.41 7.96l-1.37-1.37c-.4-.4-.92-.59-1.43-.59-.52 0-1.04.2-1.43.59L10.3 9.45l-7.72 7.72c-.78.78-.78 2.05 0 2.83L4 21.41c.39.39.9.59 1.41.59.51 0 1.02-.2 1.41-.59l7.78-7.78 2.81-2.81c.8-.78.8-2.07 0-2.86zM5.41 20L4 18.59l7.72-7.72 1.47 1.35L5.41 20z\"/>\n",
              "  </svg>\n",
              "      </button>\n",
              "      \n",
              "  <style>\n",
              "    .colab-df-container {\n",
              "      display:flex;\n",
              "      flex-wrap:wrap;\n",
              "      gap: 12px;\n",
              "    }\n",
              "\n",
              "    .colab-df-convert {\n",
              "      background-color: #E8F0FE;\n",
              "      border: none;\n",
              "      border-radius: 50%;\n",
              "      cursor: pointer;\n",
              "      display: none;\n",
              "      fill: #1967D2;\n",
              "      height: 32px;\n",
              "      padding: 0 0 0 0;\n",
              "      width: 32px;\n",
              "    }\n",
              "\n",
              "    .colab-df-convert:hover {\n",
              "      background-color: #E2EBFA;\n",
              "      box-shadow: 0px 1px 2px rgba(60, 64, 67, 0.3), 0px 1px 3px 1px rgba(60, 64, 67, 0.15);\n",
              "      fill: #174EA6;\n",
              "    }\n",
              "\n",
              "    [theme=dark] .colab-df-convert {\n",
              "      background-color: #3B4455;\n",
              "      fill: #D2E3FC;\n",
              "    }\n",
              "\n",
              "    [theme=dark] .colab-df-convert:hover {\n",
              "      background-color: #434B5C;\n",
              "      box-shadow: 0px 1px 3px 1px rgba(0, 0, 0, 0.15);\n",
              "      filter: drop-shadow(0px 1px 2px rgba(0, 0, 0, 0.3));\n",
              "      fill: #FFFFFF;\n",
              "    }\n",
              "  </style>\n",
              "\n",
              "      <script>\n",
              "        const buttonEl =\n",
              "          document.querySelector('#df-5947f64f-f162-4755-9e5f-f2a9d6e62306 button.colab-df-convert');\n",
              "        buttonEl.style.display =\n",
              "          google.colab.kernel.accessAllowed ? 'block' : 'none';\n",
              "\n",
              "        async function convertToInteractive(key) {\n",
              "          const element = document.querySelector('#df-5947f64f-f162-4755-9e5f-f2a9d6e62306');\n",
              "          const dataTable =\n",
              "            await google.colab.kernel.invokeFunction('convertToInteractive',\n",
              "                                                     [key], {});\n",
              "          if (!dataTable) return;\n",
              "\n",
              "          const docLinkHtml = 'Like what you see? Visit the ' +\n",
              "            '<a target=\"_blank\" href=https://colab.research.google.com/notebooks/data_table.ipynb>data table notebook</a>'\n",
              "            + ' to learn more about interactive tables.';\n",
              "          element.innerHTML = '';\n",
              "          dataTable['output_type'] = 'display_data';\n",
              "          await google.colab.output.renderOutput(dataTable, element);\n",
              "          const docLink = document.createElement('div');\n",
              "          docLink.innerHTML = docLinkHtml;\n",
              "          element.appendChild(docLink);\n",
              "        }\n",
              "      </script>\n",
              "    </div>\n",
              "  </div>\n",
              "  "
            ]
          },
          "metadata": {},
          "execution_count": 87
        }
      ]
    },
    {
      "cell_type": "markdown",
      "source": [
        "# **Splitting the Data**\n",
        "What is the target variable? The target variable in machine learning is what we want to predict, like whether a stock price will go up or down. The model learns from data about stocks, including various features like historical prices, trading volume, and news sentiment, to make predictions about future stock movements. When we split the data, we are just separating the features of the stocks from the target variable."
      ],
      "metadata": {
        "id": "MxsKe6fcN83j"
      }
    },
    {
      "cell_type": "code",
      "source": [
        "# Splitting the data into features (X) and target variable (y)\n",
        "\n",
        "# Select the features from the dataset, excluding the last column\n",
        "X = data.iloc[30:, :-1]\n",
        "\n",
        "# Select the target variable from the dataset, which is the last column\n",
        "y = data.iloc[30:,-1]\n"
      ],
      "metadata": {
        "id": "wqT_D8iAooXX"
      },
      "execution_count": null,
      "outputs": []
    },
    {
      "cell_type": "code",
      "source": [
        "# Split the data into training and testing sets\n",
        "X_train, X_test, y_train, y_test = train_test_split(X, y, test_size=0.2, random_state=42)"
      ],
      "metadata": {
        "id": "HhUPsSFyh2ax"
      },
      "execution_count": null,
      "outputs": []
    },
    {
      "cell_type": "markdown",
      "source": [
        "# **Initializing the Models**\n",
        "Initializing machine learning models means setting up their starting values. It's like giving a robot some basic knowledge before it learns. The model adjusts its settings to make predictions. By initializing the model, we give it a starting point to improve from as it learns from data. In the code below we are initializing each individual model, then initilializing the ensemble model.\n",
        "An ensemble model is like asking a group of friends for their opinions on something. Each friend gives their own prediction, and then we take the average or the most common answer to make a final decision. This helps us get a more accurate result by considering different viewpoints."
      ],
      "metadata": {
        "id": "w8EOJ1snPZ3_"
      }
    },
    {
      "cell_type": "code",
      "source": [
        "# Initialize stratified k-fold cross-validation\n",
        "skf = StratifiedKFold(n_splits=8, shuffle=True, random_state=42)"
      ],
      "metadata": {
        "id": "WAufrtn8oodS"
      },
      "execution_count": null,
      "outputs": []
    },
    {
      "cell_type": "code",
      "source": [
        "# Initializing each regression model\n",
        "linear_regression = LinearRegression()\n",
        "decision_tree_regressor = DecisionTreeRegressor()\n",
        "random_forest_regressor = RandomForestRegressor()\n",
        "support_vector_regressor = SVR()"
      ],
      "metadata": {
        "id": "Aj1o8TO5qLeY"
      },
      "execution_count": null,
      "outputs": []
    },
    {
      "cell_type": "code",
      "source": [
        "# Initializing the voting ensemble model with each regression model\n",
        "voting_regressor = VotingRegressor(\n",
        "    estimators=[\n",
        "        ('linear', linear_regression),\n",
        "        ('decision_tree', decision_tree_regressor),\n",
        "        ('random_forest', random_forest_regressor),\n",
        "        ('svm', support_vector_regressor)\n",
        "    ]\n",
        ")"
      ],
      "metadata": {
        "id": "OKc_DE13qTw5"
      },
      "execution_count": null,
      "outputs": []
    },
    {
      "cell_type": "markdown",
      "source": [
        "# **Training the Models on the Data**\n",
        "\n",
        "Training a machine learning model on data is like teaching it using examples. We show the model lots of examples with labels, like pictures of fruits with their names. The model learns from these examples and figures out the patterns between the features (like size or color) and the labels. This helps the model make accurate predictions when it sees new examples it hasn't seen before."
      ],
      "metadata": {
        "id": "tz0kFjd7Pic_"
      }
    },
    {
      "cell_type": "code",
      "source": [
        "# Fit the voting regressor on the training data\n",
        "voting_regressor.fit(X_train, y_train)\n",
        "\n",
        "# Predict on the testing data\n",
        "y_pred = voting_regressor.predict(X_test)\n",
        "\n",
        "threshold = .5  # Adjust the threshold according to your needs\n",
        "y_pred_binary = [1 if pred > threshold else 0 for pred in y_pred]\n",
        "\n",
        "# Create the true labels (y_true)\n",
        "y_true = y_test  # Assuming your testing data already contains the true labels"
      ],
      "metadata": {
        "id": "I-XYmxKpiAkr"
      },
      "execution_count": null,
      "outputs": []
    },
    {
      "cell_type": "markdown",
      "source": [
        "# **Results of the Predictions**\n",
        "In the code below we evaluate how the models predicted in several different manners. The first was by comparing the predictions to the actual values through a confusion matrix. A confusion matrix is a simple way to disply the predicted and actual values."
      ],
      "metadata": {
        "id": "bpyWV1MhPqBb"
      }
    },
    {
      "cell_type": "code",
      "source": [],
      "metadata": {
        "id": "IYok5ee4nodG"
      },
      "execution_count": null,
      "outputs": []
    },
    {
      "cell_type": "code",
      "source": [
        "# Create the confusion matrix\n",
        "cm = confusion_matrix(y_true, y_test)\n",
        "\n",
        "# Create a DataFrame from the confusion matrix\n",
        "cm_df = pd.DataFrame(cm, index=['Downward', 'Upward'], columns=['Downward', 'Upward'])\n",
        "\n",
        "# Set the style with a dark background\n",
        "\n",
        "# Create a black-colored heatmap with white text\n",
        "plt.figure(figsize=(8, 6))\n",
        "ax = sns.heatmap(cm_df, annot=True, cmap='RdPu')\n",
        "\n",
        "# Showing the test data\n",
        "plt.show()"
      ],
      "metadata": {
        "colab": {
          "base_uri": "https://localhost:8080/",
          "height": 522
        },
        "id": "8RLU7hDLju67",
        "outputId": "83b58fb8-17cc-488f-e6a2-5ad39dc0e0a6"
      },
      "execution_count": null,
      "outputs": [
        {
          "output_type": "display_data",
          "data": {
            "text/plain": [
              "<Figure size 800x600 with 2 Axes>"
            ],
            "image/png": "[encoded data removed]"
          },
          "metadata": {}
        }
      ]
    },
    {
      "cell_type": "code",
      "source": [
        "# Evaluate the Accuracy of the Model\n",
        "cross_val_scores = cross_val_score(voting_regressor, X, y, cv=skf)\n",
        "\n",
        "# Print the cross-validation scores\n",
        "print(\"Cross-validation Scores:\", cross_val_scores)\n",
        "print(\"Mean Score:\", cross_val_scores.mean())"
      ],
      "metadata": {
        "colab": {
          "base_uri": "https://localhost:8080/"
        },
        "id": "mjEa1T5QqWfJ",
        "outputId": "1856bd26-05ed-49f5-afd3-f8730ee738e0"
      },
      "execution_count": null,
      "outputs": [
        {
          "output_type": "stream",
          "name": "stdout",
          "text": [
            "Cross-validation Scores: [0.84338281 0.82915863 0.84287453 0.84972492 0.84112752 0.84322088\n",
            " 0.8435572  0.83660913]\n",
            "Mean Score: 0.8412069503822972\n"
          ]
        }
      ]
    },
    {
      "cell_type": "code",
      "source": [
        "# Print the prediction for tomorrows stock price\n",
        "yesterday_close = data['prevClose'].iloc[-1]\n",
        "\n",
        "if np.all(y_pred < yesterday_close):\n",
        "  print('The price is going to go down.')\n",
        "else:\n",
        "  print('The price is going up!')"
      ],
      "metadata": {
        "colab": {
          "base_uri": "https://localhost:8080/"
        },
        "id": "896ZtI1tmEv8",
        "outputId": "16e284ef-522b-4823-eb56-5f66eadb661a"
      },
      "execution_count": null,
      "outputs": [
        {
          "output_type": "stream",
          "name": "stdout",
          "text": [
            "The price is going to go down.\n"
          ]
        }
      ]
    }
  ]
}